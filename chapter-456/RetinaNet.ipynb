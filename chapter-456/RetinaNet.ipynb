{
 "cells": [
  {
   "cell_type": "markdown",
   "metadata": {},
   "source": [
    "## RetinaNet 模型训练 "
   ]
  },
  {
   "cell_type": "code",
   "execution_count": 1,
   "metadata": {},
   "outputs": [],
   "source": [
    "# !wget https://pinlandata.blob.core.windows.net/pinlan-data-hub/%E5%A4%96%E5%8C%85%E9%87%87%E9%9B%86/0523%E6%A3%80%E6%B5%8B%E6%95%B0%E6%8D%AE/detdata_baijiu_train.zip"
   ]
  },
  {
   "cell_type": "code",
   "execution_count": 2,
   "metadata": {},
   "outputs": [],
   "source": [
    "# !mv detdata_baijiu_train.zip data/"
   ]
  },
  {
   "cell_type": "code",
   "execution_count": 3,
   "metadata": {},
   "outputs": [],
   "source": [
    "# !unzip data/detdata_baijiu_train.zip"
   ]
  },
  {
   "cell_type": "markdown",
   "metadata": {},
   "source": [
    "## 划分数据集"
   ]
  },
  {
   "cell_type": "code",
   "execution_count": 4,
   "metadata": {},
   "outputs": [],
   "source": [
    "data_dir = 'data/baijiu'\n",
    "result_model_path = 'models/'\n",
    "ratio = 0.1"
   ]
  },
  {
   "cell_type": "code",
   "execution_count": 5,
   "metadata": {},
   "outputs": [
    {
     "name": "stdout",
     "output_type": "stream",
     "text": [
      "\n",
      "开始分离训练集和验证集\n",
      "分离训练集和验证集成功\n"
     ]
    }
   ],
   "source": [
    "import os\n",
    "import subprocess\n",
    "\n",
    "# 开始运行程序\n",
    "# 数据准备\n",
    "data_prep_command_line = ['python', 'data_prep/split_data.py', '--data_dir', data_dir, '--ratio', str(ratio),]\n",
    "print('\\n开始分离训练集和验证集')\n",
    "process = subprocess.Popen(data_prep_command_line)\n",
    "process.wait()\n",
    "if process.returncode != 0:\n",
    "    print(f\"分离训练集和验证集失败，失败码：{process.returncode}\")\n",
    "else:\n",
    "    print('分离训练集和验证集成功')"
   ]
  },
  {
   "cell_type": "code",
   "execution_count": 6,
   "metadata": {},
   "outputs": [],
   "source": [
    "#!python data_prep/split_data.py --data_dir data/baijiu --ratio 0.1"
   ]
  },
  {
   "cell_type": "markdown",
   "metadata": {},
   "source": [
    "## 生成CSV格式数据集和标注"
   ]
  },
  {
   "cell_type": "code",
   "execution_count": 7,
   "metadata": {},
   "outputs": [
    {
     "name": "stdout",
     "output_type": "stream",
     "text": [
      "\n",
      "开始生成 csv 文件\n",
      "生成 csv 文件成功\n"
     ]
    }
   ],
   "source": [
    "# 生成 csv\n",
    "gen_csv_command_line = ['python', 'data_prep/gen_csv.py', '--data_dir', data_dir,]\n",
    "print('\\n开始生成 csv 文件')\n",
    "process = subprocess.Popen(gen_csv_command_line)\n",
    "process.wait()\n",
    "if process.returncode != 0:\n",
    "    print(f\"生成 csv 文件失败，失败码：{process.returncode}\")\n",
    "else:\n",
    "    print('生成 csv 文件成功')"
   ]
  },
  {
   "cell_type": "code",
   "execution_count": 8,
   "metadata": {},
   "outputs": [],
   "source": [
    "# !python data_prep/gen_csv.py --data_dir data/baijiu"
   ]
  },
  {
   "cell_type": "markdown",
   "metadata": {},
   "source": [
    "## 训练模型"
   ]
  },
  {
   "cell_type": "code",
   "execution_count": 10,
   "metadata": {},
   "outputs": [
    {
     "name": "stdout",
     "output_type": "stream",
     "text": [
      "\n",
      "开始训练...\n",
      "训练失败，失败码：1\n"
     ]
    }
   ],
   "source": [
    "# 训练模型\n",
    "train_csv_path = os.path.join(data_dir, 'train_data.csv')\n",
    "val_csv_path = os.path.join(data_dir, 'val_data.csv')\n",
    "class_csv_path = os.path.join(data_dir, 'class.csv')\n",
    "train_log_path = 'logs/train_info.txt'\n",
    "\n",
    "if os.path.exists(train_log_path):\n",
    "    os.remove(train_log_path)\n",
    "    \n",
    "train_log = open(train_log_path, 'a')\n",
    "\n",
    "train_command_line = ['python', 'keras-retinanet/keras_retinanet/bin/train.py', '--snapshot-path', result_model_path, 'csv', train_csv_path, class_csv_path, '--val-annotations', val_csv_path]\n",
    "print('\\n开始训练...')\n",
    "process = subprocess.Popen(train_command_line, stdout=train_log, stderr=train_log)\n",
    "process.wait()\n",
    "if process.returncode != 0:\n",
    "    print(f\"训练失败，失败码：{process.returncode}\")\n",
    "else:\n",
    "    print('训练完成!')"
   ]
  },
  {
   "cell_type": "code",
   "execution_count": null,
   "metadata": {},
   "outputs": [],
   "source": [
    "# !python keras-retinanet/keras_retinanet/bin/train.py --snapshot-path models csv data/baijiu/train_data.csv data/baijiu/class.csv --val-annotations data/baijiu/val_data.csv"
   ]
  },
  {
   "cell_type": "markdown",
   "metadata": {},
   "source": [
    "## 转换前向模型"
   ]
  },
  {
   "cell_type": "code",
   "execution_count": null,
   "metadata": {},
   "outputs": [],
   "source": [
    "trained_model_path = 'models/resnet50_csv_03.h5'\n",
    "inference_model_save_path = \"models/RetinaNet/retinanet_inference.h5\""
   ]
  },
  {
   "cell_type": "code",
   "execution_count": null,
   "metadata": {},
   "outputs": [],
   "source": [
    "import subprocess\n",
    "\n",
    "convert_command = ['python', 'keras-retinanet/keras_retinanet/bin/convert_model.py', '--no-class-specific-filter', trained_model_path, inference_model_save_path]\n",
    "print('开始模型转换...')\n",
    "process = subprocess.Popen(convert_command)\n",
    "process.wait()\n",
    "if process.returncode != 0:\n",
    "    print(f\"模型转换失败，失败码：{process.returncode}\")\n",
    "else:\n",
    "    print('模型转换成功!')"
   ]
  },
  {
   "cell_type": "markdown",
   "metadata": {},
   "source": [
    "## 使用 GPU 推理"
   ]
  },
  {
   "cell_type": "code",
   "execution_count": null,
   "metadata": {},
   "outputs": [],
   "source": [
    "# show images inline\n",
    "%matplotlib inline\n",
    "\n",
    "# automatically reload modules when they have changed\n",
    "%load_ext autoreload\n",
    "%autoreload 2\n",
    "\n",
    "# import keras\n",
    "import keras\n",
    "\n",
    "# import keras_retinanet\n",
    "from keras_retinanet import models\n",
    "from keras_retinanet.utils.image import read_image_bgr, preprocess_image, resize_image\n",
    "from keras_retinanet.utils.visualization import draw_box, draw_caption\n",
    "from keras_retinanet.utils.colors import label_color\n",
    "from keras_retinanet.utils.gpu import setup_gpu\n",
    "\n",
    "# import miscellaneous modules\n",
    "import matplotlib.pyplot as plt\n",
    "import cv2\n",
    "import os\n",
    "import numpy as np\n",
    "import time\n",
    "\n",
    "# use this to change which GPU to use\n",
    "gpu = 0\n",
    "\n",
    "# set the modified tf session as backend in keras\n",
    "setup_gpu(gpu)"
   ]
  },
  {
   "cell_type": "markdown",
   "metadata": {},
   "source": [
    "## 加载类别标注"
   ]
  },
  {
   "cell_type": "code",
   "execution_count": null,
   "metadata": {
    "jupyter": {
     "outputs_hidden": true
    }
   },
   "outputs": [],
   "source": [
    "!pip install pandas"
   ]
  },
  {
   "cell_type": "code",
   "execution_count": null,
   "metadata": {},
   "outputs": [],
   "source": [
    "import pandas as pd\n",
    "\n",
    "df = pd.read_csv(\"data/baijiu/class.csv\", header=None)\n",
    "\n",
    "# load label to names mapping for visualization purposes\n",
    "labels_to_names = df[0].values.tolist()"
   ]
  },
  {
   "cell_type": "code",
   "execution_count": null,
   "metadata": {},
   "outputs": [],
   "source": [
    "df[0].values.tolist()"
   ]
  },
  {
   "cell_type": "markdown",
   "metadata": {},
   "source": [
    "## 加载 RetinaNet 模型"
   ]
  },
  {
   "cell_type": "code",
   "execution_count": null,
   "metadata": {},
   "outputs": [],
   "source": [
    "model = models.load_model(inference_model_save_path, backbone_name='resnet50')\n",
    "\n",
    "# print(model.summary())"
   ]
  },
  {
   "cell_type": "markdown",
   "metadata": {},
   "source": [
    "## 测试单张效果"
   ]
  },
  {
   "cell_type": "code",
   "execution_count": null,
   "metadata": {},
   "outputs": [],
   "source": [
    "# load image\n",
    "image = read_image_bgr('test_1.jpg')\n",
    "\n",
    "# copy to draw on\n",
    "draw = image.copy()\n",
    "draw = cv2.cvtColor(draw, cv2.COLOR_BGR2RGB)\n",
    "\n",
    "# preprocess image for network\n",
    "image = preprocess_image(image)\n",
    "image, scale = resize_image(image)\n",
    "\n",
    "# process image\n",
    "start = time.time()\n",
    "boxes, scores, labels = model.predict_on_batch(np.expand_dims(image, axis=0))\n",
    "print(\"processing time: \", time.time() - start)\n",
    "\n",
    "# correct for image scale\n",
    "boxes /= scale\n",
    "\n",
    "# visualize detections\n",
    "for box, score, label in zip(boxes[0], scores[0], labels[0]):\n",
    "    # scores are sorted so we can break\n",
    "    if score < 0.5:\n",
    "        break\n",
    "        \n",
    "    color = label_color(label)\n",
    "    \n",
    "    b = box.astype(int)\n",
    "    draw_box(draw, b, color=color)\n",
    "    caption = \"{} {:.3f}\".format(labels_to_names[label], score)\n",
    "    draw_caption(draw, b, caption)\n",
    "    \n",
    "plt.figure(figsize=(15, 15))\n",
    "plt.axis('off')\n",
    "plt.imshow(draw)\n",
    "plt.show()\n",
    "\n",
    "# 保存结果图\n",
    "cv2.imwrite(\"test_1_result.jpg\", draw)"
   ]
  },
  {
   "cell_type": "markdown",
   "metadata": {},
   "source": [
    "## 检测抠小图"
   ]
  },
  {
   "cell_type": "code",
   "execution_count": null,
   "metadata": {},
   "outputs": [],
   "source": [
    "# load image\n",
    "image = read_image_bgr('test_1.jpg')\n",
    "\n",
    "# copy to draw on\n",
    "draw = image.copy()\n",
    "draw = cv2.cvtColor(draw, cv2.COLOR_BGR2RGB)\n",
    "\n",
    "# preprocess image for network\n",
    "image = preprocess_image(image)\n",
    "image, scale = resize_image(image)\n",
    "\n",
    "# process image\n",
    "start = time.time()\n",
    "boxes, scores, labels = model.predict_on_batch(np.expand_dims(image, axis=0))\n",
    "print(\"processing time: \", time.time() - start)\n",
    "\n",
    "# correct for image scale\n",
    "boxes /= scale\n",
    "\n",
    "idx = 0\n",
    "# visualize detections\n",
    "for box, score, label in zip(boxes[0], scores[0], labels[0]):\n",
    "    # scores are sorted so we can break\n",
    "    if score < 0.5:\n",
    "        break\n",
    "\n",
    "    b = box.astype(int)        \n",
    "    cropped = draw[b[1]:b[3], b[0]:b[2]]\n",
    "    if cropped is not None:\n",
    "        cv2.imwrite(f\"data/classified_raw/{idx}.jpg\", cropped)    \n",
    "    idx+=1"
   ]
  },
  {
   "cell_type": "code",
   "execution_count": null,
   "metadata": {},
   "outputs": [],
   "source": []
  }
 ],
 "metadata": {
  "kernelspec": {
   "display_name": "Python 3",
   "language": "python",
   "name": "python3"
  },
  "language_info": {
   "codemirror_mode": {
    "name": "ipython",
    "version": 3
   },
   "file_extension": ".py",
   "mimetype": "text/x-python",
   "name": "python",
   "nbconvert_exporter": "python",
   "pygments_lexer": "ipython3",
   "version": "3.6.10"
  }
 },
 "nbformat": 4,
 "nbformat_minor": 4
}
